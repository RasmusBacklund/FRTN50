{
 "cells": [
  {
   "cell_type": "markdown",
   "metadata": {},
   "source": [
    "### Fill in group number and member names:"
   ]
  },
  {
   "cell_type": "code",
   "execution_count": 1,
   "metadata": {},
   "outputs": [],
   "source": [
    "GROUP = \"43\"\n",
    "NAME1 = \"Hampus Öhman\"\n",
    "NAME2 = \"Rasmus Bäcklund\""
   ]
  },
  {
   "cell_type": "markdown",
   "metadata": {},
   "source": [
    "$\\DeclareMathOperator{\\prox}{prox}$\n",
    "$\\newcommand{\\R}{\\mathbb{R}}$\n",
    "$\\newcommand{\\Sym}{\\mathbb{S}}$\n",
    "$\\newcommand{\\norm}[1]{\\lVert{#1}\\rVert}$\n",
    "$\\DeclareMathOperator{\\sign}{sign}$\n",
    "$\\DeclareMathOperator{\\diag}{diag}$\n",
    "$\\DeclareMathOperator{\\relint}{relint}$\n",
    "$\\DeclareMathOperator{\\dom}{dom}$\n",
    "# Optimization for learning - FRTN50\n",
    "\n",
    "## Assignment 1\n",
    "\n",
    "The goal of this assignment is to become familiar with some of the steps involved in solving an optimization problem. In this assignment, you will form Fenchel dual problems, find gradients and/or proximal operators, and implement the proximal gradient method.\n",
    "\n",
    "__Problem__ The problem we will solve is the following constrained problem\n",
    "\n",
    "\\begin{align}\\label{eq:the_problem}\\tag{1}\n",
    "\t\\underset{x \\in S}{\\text{minimize}}\\; \\tfrac{1}{2}x^T Q x + q^Tx\n",
    "\\end{align}\n",
    "\n",
    "where $Q\\in\\mathbb{S}_{++}^{n}$, $q\\in\\mathbb{R}^{n}$ and $S\\subseteq\\mathbb{R}^{n}$ is a set defined by the points $a,b\\in\\mathbb{R}^{n}$, $a\\leq b$, such that \n",
    "\n",
    "\\begin{align*}\n",
    "\tS = \\{x \\in \\mathbb{R}^{n}: a \\leq x \\leq b \\}.\n",
    "\\end{align*}\n",
    "\n",
    "I.e., we are going to minimize a quadratic function over an $n$-dimensional box. Recall that, the vector inequality $a\\leq b$ means that \n",
    "\n",
    "\\begin{align*}\n",
    "\ta_{i} \\leq b_{i}\n",
    "\\end{align*}\n",
    "\n",
    "for each $i=1,\\ldots,n$. Define the function $f:\\mathbb{R}^{n}\\rightarrow\\mathbb{R}$ such that\n",
    "\n",
    "\\begin{align*}\n",
    "\tf(x) = \\tfrac{1}{2}x^T Q x + q^Tx\n",
    "\\end{align*}\n",
    "\n",
    "for each $x\\in\\mathbb{R}^{n}$ and let $\\iota_{S}:\\mathbb{R}^{n}\\rightarrow\\mathbb{R}\\cup\\{\\infty\\}$ denote the indicator function of the set $S$, i.e.,\n",
    "\n",
    "\\begin{align*}\n",
    "\t\\iota_{S}(x) =\n",
    "\t\\begin{cases}\n",
    "\t\t0 \t\t& \\text{if }x\\in S, \\\\\n",
    "\t\t\\infty \t& \\text{if }x\\in \\mathbb{R}^n \\setminus S.\n",
    "\t\\end{cases}\n",
    "\\end{align*}\n",
    "\n",
    "Problem \\eqref{eq:the_problem} can then be written as \n",
    "\n",
    "\\begin{align}\\label{eq:the_problem_mod}\\tag{2}\n",
    "\t\\underset{x \\in \\mathbb{R}^{n}}{\\text{minimize}}\\; f(x) + \\iota_{S}(x).\n",
    "\\end{align}\n",
    "\n",
    "__Solution method__ To solve optimization problem \\eqref{eq:the_problem_mod}, we will use the _proximal gradient method_. It solves problems of the form\n",
    "\n",
    "\\begin{align}\\label{eq:pgprob}\\tag{3}\n",
    "\t\\underset{x \\in \\mathbb{R}^{n}}{\\text{minimize}}\\; f(x) + g(x) \n",
    "\\end{align}\n",
    "\n",
    "where $f:\\mathbb{R}^{n}\\rightarrow\\mathbb{R}$ is differentiable and $g:\\mathbb{R}^{n}\\rightarrow\\mathbb{R}\\cup\\{\\infty\\}$ is proximable, i.e., $\\prox_{\\gamma g}$ can be cheaply computed. The proximal gradient method (with constant step-size) is given by:\n",
    "\n",
    "- Pick some arbitrary initial guess $x^0\\in\\R^{n}$ and step-size $\\gamma>0$.\n",
    "- For $k=0,1,2\\ldots$, let \n",
    "\\begin{align}\\label{eq:pg}\\tag{4}\n",
    "\t\t\t\tx^{k+1} = \\prox_{\\gamma g}\\left(x^k - \\gamma \\nabla f(x^k)\\right).\n",
    "\\end{align}\n",
    "- Stop when $x^k$ is deemed to have converged.\n",
    "\n",
    "In this assignment, we simply run the proximal gradient method a large fixed number of iterations and plot the norm of the residual/step-length, $\\norm{x^{k+1} - x^k}_{2}$, of each step to make sure it converges to zero. Since the experiments are run on a computer, zero means smaller than machine precision, which usually is around $10^{-15}$.\n",
    "\n",
    "The step-size parameter $\\gamma$ in the \\eqref{eq:pg} will affect the convergence. It should be tuned to the problem or chosen based on properties of $f$ and $g$. In particular, suppose that $f$ and $g$ are proper, closed and convex. \n",
    "If $f$ is $\\beta$-smooth for some parameter $\\beta>0$, the maximal step-size to guarantee convergence is $\\gamma < \\frac{2}{\\beta}$.\n",
    "\n",
    "Below are the tasks that you need to solve. Keep this in mind:\n",
    "- The suggested exercises in the exercise compendium found on the Canvas course page, up until and including the chapter \"Proximal gradient method - basics\", is relevant for this assignment. \n",
    "- Carefully motivate every step in your calculations.\n",
    "- Use figures and tables to motivate your answers.\n",
    "- Figures must have appropriately labeled axes and must be referenced in the main text.\n",
    "- Your code should be written in a quite general manner, i.e., if a question is slightly modified, it should only require slight modifications in your code as well. \n",
    "- Comment your code well. \n",
    "- Make sure you plot in such a way that small quantities (e.g., $\\norm{x^{k+1} - x^k}_{2}$) are visible. In particular, use log-linear plots, where the quantity that should go to $0$ is on the $y$-axis using logarithmic scale, and the iteration number $k$ on the $x$-axis using linear scale.\n",
    "- What you need to submit to Canvas:\n",
    "    - This jupyter notebook containing your solutions.\n",
    "    - An exported pdf version of the jupyter notebook."
   ]
  },
  {
   "cell_type": "markdown",
   "metadata": {},
   "source": [
    "$\\DeclareMathOperator{\\prox}{prox}$\n",
    "$\\newcommand{\\R}{\\mathbb{R}}$\n",
    "$\\newcommand{\\Sym}{\\mathbb{S}}$\n",
    "$\\newcommand{\\norm}[1]{\\lVert{#1}\\rVert}$\n",
    "$\\DeclareMathOperator{\\sign}{sign}$\n",
    "$\\DeclareMathOperator{\\diag}{diag}$\n",
    "$\\DeclareMathOperator{\\relint}{relint}$\n",
    "$\\DeclareMathOperator{\\dom}{dom}$\n",
    "---\n",
    "### Task 1:\n",
    "\n",
    "Show that $f$ and $\\iota_{S}$ in (2) are convex and show that constraint qualification (CQ) holds. You are allowed to assume that $\\relint S \\neq \\emptyset$. Note that $f$ and $\\iota_{S}$ also are closed, but you do not need to prove this.\n",
    "\n",
    "__Solution:__ \n",
    "\n",
    "_Fill in your solution here!_ \n",
    "\n",
    "For $f$: \n",
    "\n",
    "\\begin{align*}\n",
    "\tf(x) = \\tfrac{1}{2}x^{\\top} Q x + q^{\\top}x\n",
    "\\end{align*}\n",
    "\n",
    "The second order condition for convexity says that a function is convex if its Hessian is positive semi-definite. For $f$, we have the Hessian $\\nabla^2f(x) = Q$ which is positive definite since $Q\\in\\mathbb{S}_{++}^{n}$.\n",
    "\n",
    "For $\\iota_{S}$: \n",
    "\n",
    "\\begin{align*}\n",
    "\t\\iota_{S}(x) =\n",
    "\t\\begin{cases}\n",
    "\t\t0 \t\t& \\text{if }x\\in S, \\\\\n",
    "\t\t\\infty \t& \\text{if }x\\in \\mathbb{R}^n \\setminus S.\n",
    "\t\\end{cases}\n",
    "\\end{align*}\n",
    "\n",
    "An indicator function is convex if and only if its set is convex, according to excercise 2.5. We want to show that the set $S$ is convex. Let $x,y\\in S$ be two points in the set and $\\theta \\in [0, 1]$. The definition of convexity gives:\n",
    "\n",
    "\\begin{align}\n",
    "   a = \\theta a + (1 - \\theta) a \\leq \\theta x + (1 - \\theta)y \\leq \\theta b + (1 - \\theta) b = b\n",
    "\\end{align}\n",
    "\n",
    "Which concludes that $\\theta x + (1 - \\theta)y \\in S$ for all points $x,y\\in S$, and thus the set is convex.\n",
    "\n",
    "\n",
    "For the CQ:\n",
    "\n",
    "We need to show that $\\relint \\dom f \\cap \\relint \\dom \\iota_{S} \\neq \\emptyset$. The relative interior of the domain for $f$ is $\\R^n$. Since the set $S$ is a subset of $\\mathbb{R}^n$ and the relative interior of the domain of $\\iota_{S}$ is the relative interior of $S$. We get that $\\relint \\dom \\iota_{S} \\subseteq \\relint \\dom f $. This together with the fact that $\\relint S \\neq \\emptyset$ proves that $\\relint \\dom f \\cap \\relint \\dom \\iota_{S} \\neq \\emptyset$ holds and that CQ is satisfied.\n"
   ]
  },
  {
   "cell_type": "markdown",
   "metadata": {},
   "source": [
    "$\\DeclareMathOperator{\\prox}{prox}$\n",
    "$\\newcommand{\\R}{\\mathbb{R}}$\n",
    "$\\newcommand{\\Sym}{\\mathbb{S}}$\n",
    "$\\newcommand{\\norm}[1]{\\lVert{#1}\\rVert}$\n",
    "$\\DeclareMathOperator{\\sign}{sign}$\n",
    "$\\DeclareMathOperator{\\diag}{diag}$\n",
    "$\\DeclareMathOperator{\\relint}{relint}$\n",
    "$\\DeclareMathOperator{\\dom}{dom}$\n",
    "---\n",
    "### Task 2:\n",
    "\n",
    "Compute the conjugate functions $f^\\ast$ and $\\iota_{S}^\\ast$. The final expressions are not allowed to be given implicitly via optimization problems. E.g., projection formulas must be solved explicitly.\n",
    "\n",
    "__Solution:__ \n",
    "\n",
    "_Fill in your solution here!_\n",
    "\n",
    "for $f^\\ast$:\n",
    "\n",
    "Fenchel-Youngs equality gives:\n",
    "$f^\\ast(s) = s^Tx-f(x)$ iff $s \\in \\partial f(x)$.\n",
    "\n",
    "For $ f(x) = \\tfrac{1}{2}x^T Q x + q^Tx$ we have $\\partial f(x) = \\{Qx+q\\}$. \n",
    "\n",
    "This together with F-Y results in: \n",
    "\n",
    "\\begin{align}\n",
    "f^\\ast(s) = s^Tx - f(x) = s^TQ^{-1}(s-q)-f(Q^{-1}(s-q)) = s^TQ^{-1}(s-q)-1/2(Q^{-1}(s-q))^TQ(Q^{-1}(s-q))-q^T(Q^{-1}(s-q)) = ... = \\frac{1}{2}(s-q)^TQ^{-1}(s-q)\n",
    "\\end{align}\n",
    "\n",
    "We know that the inverse $Q^{-1}$ exists since $Q$ is positive definite which implies that $Q$ is invertible.\n",
    "\n",
    "\n",
    "For $\\iota_{S}^\\ast$: \n",
    "Using the definition of conjugate: \n",
    "\n",
    "\\begin{align}\n",
    "    \\iota_{S}^*(s) &= \\underset{x \\in \\mathbb{R}}{\\text{sup}}\\; (s^Tx - \\iota_{S}(x)) \\\\\n",
    "\t&= \\underset{x \\in S}{\\text{sup}}\\; s^Tx = \\sum_{i=1}^n \\underset{x_i \\in S}{\\text{sup}}s_ix_i\n",
    "\\end{align}\n",
    "where \n",
    "\\begin{align}\n",
    "    \\underset{x_i \\in S}{\\text{sup}}s_ix_i \\;=\\begin{cases}\n",
    "    as_i  &\\text{if} \\; s_i < 0 \\\\\n",
    "    0  &\\text{if} \\; s_i = 0 \\\\\n",
    "    bs_i &\\text{if} \\; s_i > 0\n",
    "    \\end{cases}\n",
    "\\end{align}\n",
    "\n",
    "Since $\\iota_S$ is an indicator function we can simplify the supremum by requiring that $x \\in S$ as done above"
   ]
  },
  {
   "cell_type": "markdown",
   "metadata": {},
   "source": [
    "\n",
    "$\\DeclareMathOperator{\\prox}{prox}$\n",
    "$\\newcommand{\\R}{\\mathbb{R}}$\n",
    "$\\newcommand{\\Sym}{\\mathbb{S}}$\n",
    "$\\newcommand{\\norm}[1]{\\lVert{#1}\\rVert}$\n",
    "$\\DeclareMathOperator{\\sign}{sign}$\n",
    "$\\DeclareMathOperator{\\diag}{diag}$\n",
    "$\\DeclareMathOperator{\\relint}{relint}$\n",
    "$\\DeclareMathOperator{\\dom}{dom}$\n",
    "---\n",
    "### Task 3:\n",
    "\n",
    "Write down a Fenchel dual problem to (2). Show that constraint qualification for the dual problem (CQ-D) holds.\n",
    "\n",
    "_Attention/hint:_ Keep track of your minus signs.\n",
    "\n",
    "__Solution:__ \n",
    "\n",
    "_Fill in your solution here!_\n",
    "\n",
    "We want to write down a Fenchel dual problem to the following problem:\n",
    "\n",
    "\\begin{align}\n",
    "\t\\underset{x \\in \\mathbb{R}^{n}}{\\text{minimize}}\\; f(x) + \\iota_{S}(x).\n",
    "\\end{align}\n",
    "\n",
    "A Fenchel dual problem is:\n",
    "\n",
    "\\begin{align}\n",
    "\t\\min_{\\mu\\in \\R^n} f^*(-\\mu) + \\iota_{S}^*(\\mu)\n",
    "\\end{align}\n",
    "\n",
    "We want to show that the constraint qualification for the dual problem holds. The constraint qualification for the dual is that:\n",
    "\n",
    "\\begin{align}\n",
    "\t\\relint \\dom (f^* \\circ \\mathit{-I}) \\cap \\relint \\dom \\iota^*_{S} \\neq \\emptyset\n",
    "\\end{align}\n",
    "\n",
    "The domain of $\\iota^*_S$ is $\\mathbb{R}^n$. The domain of $f^*$ is $\\mathbb{R}^n$, the domain for $f^* \\circ -\\mathit{I}$ will be the same, i.e. $\\relint \\dom (f^* \\circ \\mathit{-I}) = \\relint \\dom \\iota^*_{S}$ . Thus both conjugate functions have the same domain, meaning that $\\relint \\dom (f^* \\circ \\mathit{-I}) \\cap \\relint \\dom \\iota^*_{S} \\neq \\emptyset$ holds and that CQ-D is satisfied.\n"
   ]
  },
  {
   "cell_type": "markdown",
   "metadata": {},
   "source": [
    "$\\DeclareMathOperator{\\prox}{prox}$\n",
    "$\\newcommand{\\R}{\\mathbb{R}}$\n",
    "$\\newcommand{\\Sym}{\\mathbb{S}}$\n",
    "$\\newcommand{\\norm}[1]{\\lVert{#1}\\rVert}$\n",
    "$\\DeclareMathOperator{\\sign}{sign}$\n",
    "$\\DeclareMathOperator{\\diag}{diag}$\n",
    "$\\DeclareMathOperator{\\relint}{relint}$\n",
    "$\\DeclareMathOperator{\\dom}{dom}$\n",
    "---\n",
    "### Task 4:\n",
    "\n",
    "Show that $f$ and $f^*$ are $\\beta$-, and $\\beta^*$-smooth, respectively. Find expressions for the smallest such parameters $\\beta$ and $\\beta^*$.\n",
    "\n",
    "_Hint:_ Later when calculating the smoothness parameters in Pyhton, make sure to read the documentation carefully so that you use the correct function.\n",
    "\n",
    "__Solution:__ \n",
    "\n",
    "_Fill in your solution here!_\n",
    "\n",
    "$f$ is $\\beta$-smooth because its Hessian is pos. def. and therefor the second order condition for smoothnes is fulfilled. The smallest value for $\\beta$ is the dominant eigenvalue of $Q$. $f^*$ is $\\beta^*$-smooth because the inverse of $Q$ is also pos.def. and then the same argument holds. For the smallest possible value on $\\beta^*$, we use the dominant eigenvalue of $Q^{-1}$."
   ]
  },
  {
   "cell_type": "markdown",
   "metadata": {},
   "source": [
    "$\\DeclareMathOperator{\\prox}{prox}$\n",
    "$\\newcommand{\\R}{\\mathbb{R}}$\n",
    "$\\newcommand{\\Sym}{\\mathbb{S}}$\n",
    "$\\newcommand{\\norm}[1]{\\lVert{#1}\\rVert}$\n",
    "$\\DeclareMathOperator{\\sign}{sign}$\n",
    "$\\DeclareMathOperator{\\diag}{diag}$\n",
    "$\\DeclareMathOperator{\\relint}{relint}$\n",
    "$\\DeclareMathOperator{\\dom}{dom}$\n",
    "$\\DeclareMathOperator*{\\argmin}{argmin}$\n",
    "\n",
    "---\n",
    "### Task 5:\n",
    "\n",
    "Compute $\\nabla f$, $\\nabla f^\\ast$, $\\prox_{\\gamma\\iota_{S}}$ and $\\prox_{\\gamma\\iota_{S}^\\ast}$. The final expressions are not allowed to be given implicitly via optimization problems. E.g., projection formulas must be solved explicitly.\n",
    "\n",
    "\n",
    "__Solution:__ \n",
    "\n",
    "_Fill in your solution here!_\n",
    "\n",
    "$\\nabla f (x) = Qx + q$ \n",
    "\n",
    "$\\nabla f^* (\\mu) = Q^{-1}(\\mu-q)$\n",
    "\n",
    "However, the input in the Prox-function will be $\\left(\\mu^k-\\gamma_k\\nabla (f^*\\circ - \\mathit{I})(\\mu^k)\\right)$. The last term can be rewritten as $\\nabla (f^*\\circ - \\mathit{I})(\\mu^k)=-\\nabla f^*(-\\mu^k)=Q^{-1}(\\mu^k+q)$. This will be used in the python code. To get $\\prox_{\\gamma\\iota_{S}}(z)$ we use definition. $\\prox_{\\gamma\\iota_{S}}(z) = \\argmin_{x}(\\frac{1}{2} \\norm{x-z}_2^2 + \\iota_{S}(x)) =\n",
    "\\\\ \\argmin_{x}(\\frac{1}{2} \\norm{x-z}_2^2 : x \\in S) = \n",
    "\\\\ \\argmin_{x}(\\norm{x-z}_2 : x \\in S) =\n",
    "\\\\ \\Pi_S(z)$\n",
    "\n",
    "That is the projection of the point z, onto the set $S$. Then the prox operator is:\n",
    "\n",
    "\\begin{align}\n",
    "    \\begin{cases}\n",
    "        &v_i = \\begin{cases}\n",
    "            a_i &\\text{for } v_i \\leq a_i \\\\\n",
    "            v_i &\\text{for } v_i \\in (a_i, b_i) \\\\\n",
    "            b_i &\\text{for } v_i \\geq b_i\n",
    "        \\end{cases} \\\\\n",
    "        &\\prox_{\\gamma\\iota_{S}}(z) = \\begin{bmatrix}\n",
    "        v_1 \\\\\n",
    "        \\vdots\\\\\n",
    "        v_n\n",
    "        \\end{bmatrix}\n",
    "    \\end{cases}\n",
    "\\end{align}\n",
    "\n",
    "\n",
    "To get the prox operator for the conjugate function we use Moreau decompositions. We have that $\\gamma\\prox_{\\gamma^{-1}\\iota^*_{S}}(\\gamma^{-1}z) = z- \\prox_{\\gamma\\iota_{S}}(z)$, giving us:\n",
    "\n",
    "\\begin{align}\n",
    "    \\begin{cases}\n",
    "        &v_i = \\begin{cases}\n",
    "            v_i-a\\gamma &\\text{if} \\; v_i < a\\gamma  \\\\\n",
    "            0 &\\text{if} \\; z_i \\in \\gamma[a,b] \\\\\n",
    "            v_i-b\\gamma &\\text{if} \\; v_i > b\\gamma \\\\\n",
    "        \\end{cases} \\\\\n",
    "        &\\prox_{\\gamma\\iota^\\ast_{S}}(z) = \\begin{bmatrix}\n",
    "        v_1 \\\\\n",
    "        \\vdots\\\\\n",
    "        v_n\n",
    "        \\end{bmatrix}\n",
    "    \\end{cases}\n",
    "\\end{align}\n",
    "\n",
    "\n"
   ]
  },
  {
   "cell_type": "markdown",
   "metadata": {
    "jp-MarkdownHeadingCollapsed": true,
    "tags": []
   },
   "source": [
    "$\\DeclareMathOperator{\\prox}{prox}$\n",
    "$\\newcommand{\\R}{\\mathbb{R}}$\n",
    "$\\newcommand{\\Sym}{\\mathbb{S}}$\n",
    "$\\newcommand{\\norm}[1]{\\lVert{#1}\\rVert}$\n",
    "$\\DeclareMathOperator{\\sign}{sign}$\n",
    "$\\DeclareMathOperator{\\diag}{diag}$\n",
    "$\\DeclareMathOperator{\\relint}{relint}$\n",
    "$\\DeclareMathOperator{\\dom}{dom}$\n",
    "---\n",
    "### Task 6:\n",
    "\n",
    "Based on your results above, write explicitly out the proximal gradient update rule (4) for both the primal and the dual problem. Use $x$ as the primal variable and $\\mu$ as the dual variable.\n",
    "\n",
    "_Attention/hint:_ Keep track of your minus signs.\n",
    "\n",
    "__Solution:__ \n",
    "\n",
    "_Fill in your solution here!_\n",
    "\n",
    "We have that:\n",
    "\n",
    "\\begin{align}\n",
    "\tx^{k+1} = \\prox_{\\gamma g}\\left(x^k - \\gamma \\nabla f(x^k)\\right).\n",
    "\\end{align}\n",
    "\n",
    "We let $v_i$ denote the input of the prox operator, i.e. $v^k = x^k - \\gamma \\nabla f(x^k) = x^k - \\gamma(Qx^k +  q)$. Furthermore, let $v^k_i$ denote the i:th element in the k:th update. We then get:\n",
    "\n",
    "$x^{k+1} = \\begin{bmatrix}\n",
    "x_1^{k+1} \\\\\n",
    "\\vdots \\\\\n",
    "x_n^{k+1}\n",
    "\\end{bmatrix}\n",
    "=\n",
    "\\begin{cases}\n",
    "a_i &\\text{if} \\; v^k_i \\leq a_i \\\\\n",
    "v^k_i &\\text{if} \\; v^k_i \\in (a_i,b_i) \\\\\n",
    "b_i &\\text{if} \\; v^k_i \\geq b_i \\\\\n",
    "\\end{cases}$\n",
    "\n",
    "Where $i$ is the index of the element in the vector $x^k$. We can do this since $g$ is separable. i.e. we can write it as the sum: $\\iota_S(x) = \\sum_{i=1}^n\\iota_{S_i}(x_i)$. Where we define\n",
    "\\begin{align}\n",
    "    \\iota_{S_i}(x_i) = \\begin{cases}\n",
    "        0 &\\text{if } x_i \\in [a_i, b_i] \\\\\n",
    "        \\infty &\\text{if } x_i \\notin [a_i, b_i]\n",
    "    \\end{cases}\n",
    "\\end{align}\n",
    "\n",
    "For the dual problem we have: \n",
    "\\begin{align}\n",
    "\t\\mu^{k+1} = \\prox_{\\gamma g}\\left(\\mu^k-\\gamma\\nabla (f^*\\circ - \\mathit{I})(\\mu^k)\\right).\n",
    "\\end{align}\n",
    "\n",
    "We let $u_k$ denote the input of the prox operator, i.e. $u^k = \\mu^k-\\gamma\\nabla (f^*\\circ - \\mathit{I})(\\mu^k) = \\mu_i^k-\\gamma(Q^{-1}(\\mu_i^k+q))$. Furthermore, let $u^k_i$ denote the i:th element in the k:th update. We then get:\n",
    "\n",
    "$\\mu^{k+1} = \\begin{bmatrix}\n",
    "\\mu_1^{k+1} \\\\\n",
    "\\vdots \\\\\n",
    "\\mu_n^{k+1}\n",
    "\\end{bmatrix}\n",
    "=\n",
    "\\begin{cases}\n",
    "u^k_i-a_i\\gamma &\\text{if} \\; u^k_i \\leq a_i\\gamma  \\\\\n",
    "0 &\\text{if} \\; u^k_i \\in \\gamma(a,b) \\\\\n",
    "u^k_i-b_i\\gamma &\\text{if} \\; u^k_i \\geq b_i\\gamma \\\\\n",
    "\\end{cases}$ \n",
    "\n",
    "Where $i$ is the index of the element in the vector $\\mu^k$."
   ]
  },
  {
   "cell_type": "markdown",
   "metadata": {},
   "source": [
    "$\\DeclareMathOperator{\\prox}{prox}$\n",
    "$\\newcommand{\\R}{\\mathbb{R}}$\n",
    "$\\newcommand{\\Sym}{\\mathbb{S}}$\n",
    "$\\newcommand{\\norm}[1]{\\lVert{#1}\\rVert}$\n",
    "$\\DeclareMathOperator{\\sign}{sign}$\n",
    "$\\DeclareMathOperator{\\diag}{diag}$\n",
    "$\\DeclareMathOperator{\\relint}{relint}$\n",
    "$\\DeclareMathOperator{\\dom}{dom}$\n",
    "---\n",
    "### Task 7:\n",
    "\n",
    "Suppose that $\\mu^\\star\\in\\R^{n}$ is an optimal solution to the dual problem you found in Task 3. Given $\\mu^\\star$, and starting from the optimality condition for the dual problem (given by Fermat's rule), recover an optimal point $x^{\\star}\\in\\R^{n}$ to the primal problem (2), and show that this $x^{\\star}$ is in fact an optimal solution to the primal problem (2).\n",
    "\n",
    "__Solution:__ \n",
    "\n",
    "_Fill in your solution here!_\n",
    "\n",
    "Fermats rule states that:\n",
    "\n",
    "\\begin{align}\\label{eq:fermat}\\tag{3}\n",
    "\t0 \\in \\partial f^*(-\\mu^\\star) -\\partial g^*(\\mu^\\star)\n",
    "\\end{align}\n",
    "\n",
    "which gives:\n",
    "\n",
    "\\begin{align}\n",
    "\tx^* \\in \\partial f^\\ast(\\mu) = Q^{-1}(-\\mu^*-q)\n",
    "\\end{align}\n",
    "\n",
    "because CQ holds (as shown above) and also since $L = \\mathit{I}$.\n",
    "\n",
    "Fermat's rule states that \\ref{eq:fermat} holds if $\\mu^\\star$ is an optimal solution to the dual problem. Using $0 = Lx - Lx$ we can recover the two following conditions from \\ref{eq:fermat}:\n",
    "\n",
    "\\begin{align}\n",
    "    x &\\in \\partial f^\\ast(-L^T\\mu^\\star) \\\\\n",
    "    Lx &\\in \\partial g^\\ast(\\mu^\\star) \n",
    "\\end{align}\n",
    "\n",
    "Using the fact that $\\partial f^\\ast = (\\partial f)^{-1}$ we can rewrite this as:\n",
    "\n",
    "\\begin{align}\n",
    "    -L^T\\mu^\\star &\\in \\partial f(x) \\\\\n",
    "    \\mu^\\star &\\in \\partial g(Lx)\n",
    "\\end{align}\n",
    "\n",
    "Since we introduce the dual variable as $\\mu \\in \\partial g(Lx)$ we get that\n",
    "\n",
    "\\begin{align}\n",
    "    0 \\in \\partial f(x) + L^T\\partial g(Lx)\n",
    "\\end{align}\n",
    "\n",
    "In our case we have that $L=\\mathit{I}$, thus we can disregard it. Then we have the optimality condition for problem (2). Since the last condition is equivalent to the first one (the optimality condition for the dual problem), we get that if $\\mu^\\star$ is an optimal solution for the dual, then $x^\\star$ is an optimal solution for the primal. \n",
    "\n",
    "\n"
   ]
  },
  {
   "cell_type": "markdown",
   "metadata": {},
   "source": [
    "$\\DeclareMathOperator{\\prox}{prox}$\n",
    "$\\newcommand{\\R}{\\mathbb{R}}$\n",
    "$\\newcommand{\\Sym}{\\mathbb{S}}$\n",
    "$\\newcommand{\\norm}[1]{\\lVert{#1}\\rVert}$\n",
    "$\\DeclareMathOperator{\\sign}{sign}$\n",
    "$\\DeclareMathOperator{\\diag}{diag}$\n",
    "$\\DeclareMathOperator{\\relint}{relint}$\n",
    "$\\DeclareMathOperator{\\dom}{dom}$\n",
    "--- \n",
    "### Task 8:\n",
    "\n",
    "Use your results above to fill in the functions below.\n",
    "\n",
    "__Solution:__ "
   ]
  },
  {
   "cell_type": "code",
   "execution_count": 44,
   "metadata": {},
   "outputs": [],
   "source": [
    "import numpy as np\n",
    "import matplotlib.pyplot as plt\n",
    "import pandas as pd\n",
    "%matplotlib inline\n",
    "\n",
    "def quad(x,Q,q):\n",
    "    \"\"\"\n",
    "    quad(x,Q,q) computes the quadratic function (1/2)x'Qx + q'x\n",
    "    \n",
    "    :param x: the variable of the quadratic function\n",
    "    :param Q: the matrix in the quadratic function that corresponds to the quadratic form\n",
    "    :param q: the vector in the quadratic function that corresponds to the linear part\n",
    "    :return: (1/2)x'Qx + q'x\n",
    "    \"\"\"\n",
    "    # Write your solution here\n",
    "    f = (1/2)*x.T@Q@x + q.T@x\n",
    "    \n",
    "    return f\n",
    "\n",
    "def quadconj(mu,Q,q):\n",
    "    \"\"\"\n",
    "    quadconj(mu,Q,q) computes the conjugate function of the \n",
    "    quadratic function (1/2)x'Qx + q'x, evaluated at mu\n",
    "    \n",
    "    :param mu: the variable of the conjugate function\n",
    "    :param Q: the matrix in the quadratic function that corresponds to the quadratic form\n",
    "    :param q: the vector in the quadratic function that corresponds to the linear part\n",
    "    :return: conjugate of (1/2)x'Qx + q'x, evaluated at mu\n",
    "    \"\"\"\n",
    "    # Write your solution here\n",
    "    \n",
    "    Qinv = np.linalg.inv(Q)\n",
    "    \n",
    "    fconj = 1/2*(mu-q).T@Qinv@(s-q)\n",
    "    \n",
    "    return fconj\n",
    "\n",
    "def box(x,a,b):\n",
    "    \"\"\"\n",
    "    box(x,a,b) computes the indicator function of the box contraint\n",
    "    [a,b]\n",
    "    \n",
    "    :param x: the variable of the indicator function\n",
    "    :param a: the left vector defining the box contraint\n",
    "    :param b: the right vector defining the box contraint\n",
    "    :return: 0 if x is in [a,b] and infinity otherwise\n",
    "    \"\"\"\n",
    "    if np.all(a <= x) and np.all(x <= b):\n",
    "        return 0\n",
    "    else: \n",
    "        return np.Inf\n",
    "\n",
    "def boxconj(mu,a,b):\n",
    "    \"\"\"\n",
    "    boxconj(mu,a,b) computes the conjugate function of the indicator function \n",
    "    of the box contraint [a,b], evaluated at mu\n",
    "    \n",
    "    :param mu: the variable of the conjugate function\n",
    "    :param a: the left vector defining the box contraint\n",
    "    :param b: the right vector defining the box contraint\n",
    "    :return: conjugate of the indicator function of the box contraint [a,b], evaluated at mu\n",
    "    \"\"\"\n",
    "    # Write your solution here\n",
    "    \n",
    "    testvector = np.zeros(len(mu))\n",
    "    \n",
    "    \n",
    "    for i in range(len(mu)):\n",
    "        if np.any(mu[i] < 0):\n",
    "                testvector[i] = a[i]*mu[i]\n",
    "        elif np.all(mu[i] == 0):\n",
    "                testvector[i] = 0\n",
    "        elif nnp.any(mu[i] > 0):\n",
    "                testvector[i] = b[i]*mu[i]\n",
    "    \n",
    "    return testvector\n",
    "\n",
    "def grad_quad(x,Q,q):\n",
    "    \"\"\"\n",
    "    grad_quad(x,Q,q) computes the gradient of the quadratic function (1/2)x'Qx + q'x\n",
    "    \n",
    "    :param x: the variable of the quadratic function\n",
    "    :param Q: the matrix in the quadratic function that corresponds to the quadratic form\n",
    "    :param q: the vector in the quadratic function that corresponds to the linear part\n",
    "    :return: gradient of (1/2)x'Qx + q'x\n",
    "    \"\"\"\n",
    "    # Write your solution here\n",
    "    \n",
    "    fgrad = Q@x + q\n",
    "    \n",
    "    return fgrad\n",
    "\n",
    "def grad_quadconj(mu,Q,q):\n",
    "    \"\"\"\n",
    "    grad_quadconj(mu,Q,q) computes the gradient of the conjugate function of the \n",
    "    the quadratic function (1/2)x'Qx + q'x, evaluated at mu\n",
    "    \n",
    "    :param mu: the variable of the conjugate function\n",
    "    :param Q: the matrix in the quadratic function that corresponds to the quadratic form\n",
    "    :param q: the vector in the quadratic function that corresponds to the linear part\n",
    "    :return: gradient of the conjugate of (1/2)x'Qx + q'x, evaluated at mu\n",
    "    \"\"\"\n",
    "    # Write your solution here\n",
    "    \n",
    "    Qinv = np.linalg.inv(Q)\n",
    "    \n",
    "    fconjgrad = Qinv@(mu+q)\n",
    "    \n",
    "    return fconjgrad\n",
    "\n",
    "def prox_box(x,a,b,gamma):\n",
    "    \"\"\"\n",
    "    prox_box(x,a,b,gamma) computes proximal operator of the indicator function \n",
    "    of the box contraint [a,b], evaluated at x\n",
    "    \n",
    "    :param x: the variable of the poximal operator\n",
    "    :param a: the left vector defining the box contraint\n",
    "    :param b: the right vector defining the box contraint\n",
    "    :param gamma: the step-size parameter\n",
    "    :return: proximal operator of the indicator function of the \n",
    "    box contraint [a,b], evaluated at x\n",
    "    \"\"\"\n",
    "    # Write your solution here\n",
    "    testvector = np.zeros(len(x))\n",
    "    \n",
    "    \n",
    "    for i in range(len(x)):\n",
    "        if np.any(x[i] <= a[i]):\n",
    "                testvector[i] = a[i]\n",
    "        elif np.all(a[i] < x[i]) and np.all(x[i] < b[i]):\n",
    "                testvector[i] = x[i]\n",
    "        elif np.any(x[i] >= b[i]):\n",
    "                testvector[i] = b[i]\n",
    "    \n",
    "    return testvector\n",
    "    \n",
    "\n",
    "def prox_boxconj(mu,a,b,gamma):\n",
    "    \"\"\"\n",
    "    prox_box(mu,a,b,gamma) computes proximal operator of the conjugate function of \n",
    "    the indicator function of the box contraint [a,b], evaluated at mu\n",
    "    \n",
    "    :param mu: the variable of the poximal operator\n",
    "    :param a: the left vector defining the box contraint\n",
    "    :param b: the right vector defining the box contraint\n",
    "    :param gamma: the step-size parameter\n",
    "    :return: proximal operator of the conjugate function of the indicator function of the \n",
    "    box contraint [a,b], evaluated at mu\n",
    "    \"\"\"\n",
    "    # Write your solution here\n",
    "    \n",
    "    x = mu\n",
    "    testvector = np.zeros(len(x))\n",
    "    \n",
    "    for i in range(len(x)):\n",
    "        if np.any(x[i] <= a[i]*gamma):\n",
    "                testvector[i] = x[i]-a[i]*gamma\n",
    "        elif np.all(gamma*a[i] < x[i]) and np.all(x[i] < gamma*b[i]):\n",
    "                testvector[i] = 0\n",
    "        elif np.any(x[i] >= b[i]*gamma):\n",
    "                testvector[i] = x[i] - b[i]*gamma\n",
    "    return testvector \n",
    "\n",
    "def dual_to_primal(mu,Q,q,a,b):\n",
    "    \"\"\"\n",
    "    dual_to_primal(mu,Q,q,a,b) computes the solution x* to the primal problem \n",
    "    given a solution mu* to the dual problem.\n",
    "    \n",
    "    :param mu: the dual variable\n",
    "    :param Q: the matrix in the quadratic function that corresponds to the quadratic form\n",
    "    :param q: the vector in the quadratic function that corresponds to the linear part\n",
    "    :param a: the left vector defining the box contraint\n",
    "    :param b: the right vector defining the box contraint\n",
    "    :return: the extracted primal variable\n",
    "    \"\"\"\n",
    "    # Write your solution here\n",
    "    \n",
    "    Qinv = np.linalg.inv(Q)\n",
    "    \n",
    "    xstar = Qinv@(-mu-q)\n",
    "    \n",
    "    \n",
    "    return xstar"
   ]
  },
  {
   "cell_type": "markdown",
   "metadata": {},
   "source": [
    "$\\DeclareMathOperator{\\prox}{prox}$\n",
    "$\\newcommand{\\R}{\\mathbb{R}}$\n",
    "$\\newcommand{\\Sym}{\\mathbb{S}}$\n",
    "$\\newcommand{\\norm}[1]{\\lVert{#1}\\rVert}$\n",
    "$\\DeclareMathOperator{\\sign}{sign}$\n",
    "$\\DeclareMathOperator{\\diag}{diag}$\n",
    "$\\DeclareMathOperator{\\relint}{relint}$\n",
    "$\\DeclareMathOperator{\\dom}{dom}$\n",
    "---\n",
    "### Task 9:\n",
    "\n",
    "Below is a function for generating $Q$, $q$, $a$, and $b$ that define the quadratic function $f$ and the box constraint set $S$. Use Task 8 to solve the primal problem using the proximal gradient method.\n",
    "\n",
    "__a)__ What seems to be the best choice of $\\gamma$? \n",
    "\n",
    "__b)__ Does the upper bound $\\gamma < \\frac{2}{\\beta}$ seem reasonable?\n",
    "\n",
    "\n",
    "Test different initial points for the algorithm:\n",
    "\n",
    "__c)__ Does this affect the point the algorithm converges to? \n",
    "\n",
    "__d)__ Reason about why/why not it affects the final point. _Hint:_ Look at the objective function in (2).\n",
    "\n",
    "__e)__ Does your final point $x^{\\text{final}}$ satisfy the constraint $x^{\\text{final}} \\in S$?\n",
    "\n",
    "__f)__ What about the iterates, do they always satisfy the constraint, $x^k \\in S$? Why/why not?\n",
    "\n",
    "__Solution:__ \n",
    "\n",
    "_Fill in your solution here!_\n",
    "\n",
    "__a)__ The best choice of $\\gamma$ seems to be 0.03, which is $\\frac{2}{\\gamma}$. If $\\gamma$ is larger than that, the algorithm does not converge. Having a smaller $\\gamma$ than $\\frac{2}{\\gamma}$ still gives convergence. However, if $\\gamma$ is sufficiently smaller, for example $\\gamma=0.01$, the number of iterations before we reach machine precision is bigger. See \"residual vs iteration\" plot below.\n",
    "\n",
    "__b)__ The smallest possible $\\beta$ is calculated as described in Task 4, i.e. as the dominant eigenvalue of $Q$. The upper bound seems reasonable since the algorithm does not converge for $\\gamma > \\frac{2}{\\beta}$. See \"residual vs iteration (gamma = 2/betamax*1.1)\" below.\n",
    "\n",
    "__c)__ Testing different starting points does not affect the point the algorithm converges to. For all different starting points the algorithm converges to the same point.\n",
    "\n",
    "__d)__ The reason that it does not affect the final point is that our object funnction is strongly convex. This is true since the sum of a strongly convex function ($f$) and a convex function is strongly convex. $f(x)$ is strongly convex since all the eigenvalues of the Hessian are strictly greater than zero. $\\iota_S(x)$ is convex since the indicator function is convex if and only if the set $S$ is convex. It is clear that the set $S$ is convex. Therefore, if we reach a minimum, it will be a global minimum. In other words, there are no saddle points or local minimums that the algorithm can converge to. \n",
    "\n",
    "__e)__ The final point $x^{\\text{final}}$ satisfies $x^{\\text{final}} \\in S$. That is, the constraint $a \\leq x^{\\text{final}} \\leq b$ is satisfied. \n",
    "\n",
    "__f)__ We look at the update rule for $x^{k+1}$. If the starting point is outside the set $S$, the update rule will project the next iterate onto the edge of $S$. Since the problem is convex, we know that $-\\gamma \\nabla f(x^k)$ will be a step towards the minimum. We also know that the the minimum will be inside $S$. Thus, if $x^k \\in S$, all future iterates will be in the set $S$. In conclusion, the first iterate will be on the edge of $S$ if the starting point is outside $S$. The rest of the iterates will be inside $S$. If the starting point is in $S$, all iterates will also be in $S$."
   ]
  },
  {
   "cell_type": "code",
   "execution_count": 29,
   "metadata": {},
   "outputs": [],
   "source": [
    "function_values = np.array(0)"
   ]
  },
  {
   "cell_type": "code",
   "execution_count": 73,
   "metadata": {},
   "outputs": [
    {
     "name": "stdout",
     "output_type": "stream",
     "text": [
      "9.808231462825378e-16\n"
     ]
    }
   ],
   "source": [
    "from numpy import random\n",
    "import pylab\n",
    "\n",
    "def problem_data():\n",
    "    \"\"\"\n",
    "    problem_data() generates the problem data variables Q, q, a and b\n",
    "    \n",
    "    :return: (Q,q,a,b)\n",
    "    \"\"\"\n",
    "    rs = np.random.RandomState(np.random.MT19937(np.random.SeedSequence(1)))\n",
    "    n = 20\n",
    "    Q = rs.randn(n,n)\n",
    "    Q = Q.T@Q\n",
    "    q = rs.randn(n)\n",
    "    a = -rs.rand(n)\n",
    "    b = rs.rand(n)\n",
    "    return Q, q, a, b\n",
    "\n",
    "(Q,q,a,b) = problem_data()\n",
    "\n",
    "# Write your solution here\n",
    "n = 20\n",
    "betamax = max(np.linalg.eig(Q)[0])\n",
    "gamma = 2/betamax\n",
    "stop = pow(10,-15)\n",
    "residual = 10000000\n",
    "x0 = np.random.rand(n)\n",
    "\n",
    "residualvector = []\n",
    "\n",
    "while residual > stop:\n",
    "    grad = grad_quad(x0,Q,q)\n",
    "    x1 = prox_box(x0-gamma*grad, a, b, gamma)\n",
    "\n",
    "    residual = np.linalg.norm(x1-x0)\n",
    "    residualvector.append(residual)\n",
    "    \n",
    "    x0 = x1\n",
    "\n",
    "print(residual)\n",
    "\n",
    "\n"
   ]
  },
  {
   "cell_type": "code",
   "execution_count": 38,
   "metadata": {
    "scrolled": true
   },
   "outputs": [
    {
     "data": {
      "text/plain": [
       "Text(0.5, 1.0, 'Residual vs iterations')"
      ]
     },
     "execution_count": 38,
     "metadata": {},
     "output_type": "execute_result"
    },
    {
     "data": {
      "image/png": "[encoded data removed]",
      "text/plain": [
       "<Figure size 432x288 with 1 Axes>"
      ]
     },
     "metadata": {
      "needs_background": "light"
     },
     "output_type": "display_data"
    }
   ],
   "source": [
    "fig = plt.figure()\n",
    "ax = fig.add_subplot(2, 1, 1)\n",
    "for i in residuallist:\n",
    "    ax.plot(i)\n",
    "    \n",
    "ax.set_yscale('log')\n",
    "ax.legend(legend)\n",
    "ax.set_title(\"Residual vs iterations\")"
   ]
  },
  {
   "cell_type": "code",
   "execution_count": 42,
   "metadata": {},
   "outputs": [
    {
     "data": {
      "text/plain": [
       "Text(0.5, 1.0, 'Residual vs iterations (gamma = 2/betamax*1.1)')"
      ]
     },
     "execution_count": 42,
     "metadata": {},
     "output_type": "execute_result"
    },
    {
     "data": {
      "image/png": "[encoded data removed]",
      "text/plain": [
       "<Figure size 432x288 with 1 Axes>"
      ]
     },
     "metadata": {
      "needs_background": "light"
     },
     "output_type": "display_data"
    }
   ],
   "source": [
    "fig = plt.figure()\n",
    "ax = fig.add_subplot(2, 1, 1)\n",
    "ax.plot(residualvector)\n",
    "ax.set_yscale('log')\n",
    "ax.set_title(\"Residual vs iterations (gamma = 2/betamax*1.1)\")"
   ]
  },
  {
   "cell_type": "code",
   "execution_count": 134,
   "metadata": {},
   "outputs": [
    {
     "name": "stdout",
     "output_type": "stream",
     "text": [
      "Startpoint 0 is equal to startpoint 1 :False\n",
      "Endpoint 0 is equal to endpoint 1 :True\n",
      "Startpoint 0 is equal to startpoint 2 :False\n",
      "Endpoint 0 is equal to endpoint 2 :True\n",
      "Startpoint 0 is equal to startpoint 3 :False\n",
      "Endpoint 0 is equal to endpoint 3 :True\n",
      "Startpoint 0 is equal to startpoint 4 :False\n",
      "Endpoint 0 is equal to endpoint 4 :True\n",
      "Startpoint 1 is equal to startpoint 2 :False\n",
      "Endpoint 1 is equal to endpoint 2 :True\n",
      "Startpoint 1 is equal to startpoint 3 :False\n",
      "Endpoint 1 is equal to endpoint 3 :True\n",
      "Startpoint 1 is equal to startpoint 4 :False\n",
      "Endpoint 1 is equal to endpoint 4 :True\n",
      "Startpoint 2 is equal to startpoint 3 :False\n",
      "Endpoint 2 is equal to endpoint 3 :True\n",
      "Startpoint 2 is equal to startpoint 4 :False\n",
      "Endpoint 2 is equal to endpoint 4 :True\n",
      "Startpoint 3 is equal to startpoint 4 :False\n",
      "Endpoint 3 is equal to endpoint 4 :True\n"
     ]
    }
   ],
   "source": [
    "# Checks same endpoints for different starting points (within machine precision).\n",
    "for i in range(len(x1points)):\n",
    "     for k in range(len(x1points)):\n",
    "        if k > i:\n",
    "            print('Startpoint ' + str(i) + ' is equal to startpoint ' + str(k) + ' :' + str(np.all(x0points[i] == x0points[k])))\n",
    "            print('Endpoint ' + str(i) + ' is equal to endpoint ' + str(k) + ' :' + str(np.all(x1points[i] - x1points[k] <= pow(10,-10))))\n",
    "     \n",
    "\n"
   ]
  },
  {
   "cell_type": "markdown",
   "metadata": {},
   "source": [
    "# $\\DeclareMathOperator{\\prox}{prox}$\n",
    "$\\newcommand{\\R}{\\mathbb{R}}$\n",
    "$\\newcommand{\\Sym}{\\mathbb{S}}$\n",
    "$\\newcommand{\\norm}[1]{\\lVert{#1}\\rVert}$\n",
    "$\\DeclareMathOperator{\\sign}{sign}$\n",
    "$\\DeclareMathOperator{\\diag}{diag}$\n",
    "$\\DeclareMathOperator{\\relint}{relint}$\n",
    "$\\DeclareMathOperator{\\dom}{dom}$\n",
    "---\n",
    "### Task 10:\n",
    "\n",
    "Solve the dual problem. \n",
    "\n",
    "__a)__ Similar to the previous task, find/verify the upper bound on the step-size and find a good step-size choice.\n",
    "\n",
    "Let $x^{\\text{final}}$ be the final points from Task 9 and $\\mu^{\\text{final}}$ the final point for the dual problem. Let $\\hat{x}^{\\text{final}}$ final primal points extracted from the final dual point $\\mu^{\\text{final}}$ using the expression from Task 7:\n",
    "\n",
    "__b)__ Are $x^{\\text{final}}$ and $\\hat{x}^{\\text{final}}$ the same?\n",
    "\n",
    "__c)__ Is $\\hat{x}^{\\text{final}}$ in the box $S$?\n",
    "\n",
    "__d)__ Let $\\mu^k$ be the iterates of the dual method, using the expression from Task 7, extract the primal iterates $\\hat{x}^k$ from $\\mu^k$. Does $\\hat{x}^k$ always satisfy the constraint $\\hat{x}^k \\in S$?\n",
    "\n",
    "Also: \n",
    "\n",
    "__e)__ How do the function values $f\\left(\\hat{x}^k\\right)$ develop over the iterations?\n",
    "\n",
    "__f)__ What about $f\\left(\\hat{x}^k\\right)+\\iota_{S}\\left(\\hat{x}^k\\right)$?\n",
    "\n",
    "__Solution:__ \n",
    "\n",
    "_Fill in your solution here!_\n",
    "\n",
    "__a)__ Similar to the primal, the upper bound $\\gamma < \\frac{2}{\\beta}$ is used. The smallest possible $\\beta$ is the dominant eigenvalue of $Q^{-1}$. Choosing $\\gamma$ as close as possible to the upper bound seems reasonable. See figure \"residuals vs iterations\" below.\n",
    "\n",
    "__b)__ Yes, $x^{\\text{final}}$ and $\\hat{x}^{\\text{final}}$ are the same with a precision of $1.71*10^{-13}$.\n",
    "\n",
    "__c)__ Yes\n",
    "\n",
    "__d__ After about 2400 iterations the extracted primal iterates start to satisfy the constraint\n",
    "\n",
    "__e__ The function values for  𝑓(𝑥̂ 𝑘)  go back and forth quickly for about 25 iterations and then stays basically flat, with very small changes, until the stopping condition is reached\n",
    "\n",
    "__f__ The function values for  𝑓(𝑥̂ 𝑘)+𝜄𝑆(𝑥̂ 𝑘)  are infinity, because of the indicator-function, until about 2400 iterations, just as in d). It then goes to -2.67 and just slitghtly improves until the stopping condition is reached.\n"
   ]
  },
  {
   "cell_type": "code",
   "execution_count": 104,
   "metadata": {
    "scrolled": true
   },
   "outputs": [
    {
     "name": "stdout",
     "output_type": "stream",
     "text": [
      "9.992007221626409e-16\n"
     ]
    }
   ],
   "source": [
    "n = 20\n",
    "betamax = max(np.linalg.eig(np.linalg.inv(Q))[0])\n",
    "gamma = 2/betamax\n",
    "stop = pow(10,-15)\n",
    "residual = 10000000\n",
    "mu0 = np.ones(n)\n",
    "\n",
    "residualvector = []\n",
    "xhatvector = []\n",
    "f = []\n",
    "fg = []\n",
    "\n",
    "while residual > stop:\n",
    "    grad = grad_quadconj(mu0,Q,q)\n",
    "    mu1 = prox_boxconj(mu0-gamma*grad, a, b, gamma)\n",
    "\n",
    "    residual = np.linalg.norm(mu1-mu0)\n",
    "    residualvector.append(residual)\n",
    "    xhat = dual_to_primal(mu1,Q,q,a,b)\n",
    "    xhatvector.append(xhat)\n",
    "    f.append(quad(xhat,Q,q))\n",
    "    fg.append(quad(xhat,Q,q)+box(xhat,a-0.0000000001,b+0.0000000001))\n",
    "    \n",
    "    mu0 = mu1\n",
    "\n",
    "print(residual)"
   ]
  },
  {
   "cell_type": "code",
   "execution_count": 99,
   "metadata": {},
   "outputs": [],
   "source": [
    "residuallist = []"
   ]
  },
  {
   "cell_type": "code",
   "execution_count": 105,
   "metadata": {},
   "outputs": [],
   "source": [
    "residuallist.append(residualvector)"
   ]
  },
  {
   "cell_type": "code",
   "execution_count": 106,
   "metadata": {},
   "outputs": [],
   "source": [
    "legend = [\"2/betamax\" , \"2/betamax*0.3\" , \"2/betamax*0.1\"]"
   ]
  },
  {
   "cell_type": "code",
   "execution_count": 107,
   "metadata": {
    "scrolled": true
   },
   "outputs": [
    {
     "data": {
      "text/plain": [
       "Text(0.5, 1.0, 'Residual vs iterations')"
      ]
     },
     "execution_count": 107,
     "metadata": {},
     "output_type": "execute_result"
    },
    {
     "data": {
      "image/png": "[encoded data removed]",
      "text/plain": [
       "<Figure size 432x288 with 1 Axes>"
      ]
     },
     "metadata": {
      "needs_background": "light"
     },
     "output_type": "display_data"
    }
   ],
   "source": [
    "fig = plt.figure()\n",
    "ax = fig.add_subplot(2, 1, 1)\n",
    "for i in residuallist:\n",
    "    ax.plot(i)\n",
    "    \n",
    "ax.set_yscale('log')\n",
    "ax.legend(legend)\n",
    "ax.set_title(\"Residual vs iterations\")"
   ]
  },
  {
   "cell_type": "code",
   "execution_count": 108,
   "metadata": {},
   "outputs": [
    {
     "data": {
      "text/plain": [
       "1.7315601299022688e-13"
      ]
     },
     "execution_count": 108,
     "metadata": {},
     "output_type": "execute_result"
    }
   ],
   "source": [
    "np.linalg.norm(xhat - x0)"
   ]
  },
  {
   "cell_type": "code",
   "execution_count": 318,
   "metadata": {},
   "outputs": [
    {
     "data": {
      "image/png": "[encoded data removed]",
      "text/plain": [
       "<Figure size 432x288 with 1 Axes>"
      ]
     },
     "metadata": {
      "needs_background": "light"
     },
     "output_type": "display_data"
    }
   ],
   "source": [
    "distance = []\n",
    "for xhat in xhatvector:\n",
    "    xhat = np.around(xhat,12)\n",
    "    distance.append(np.linalg.norm(xhat-box(xhat,a-0.0000000001,b+0.0000000001))) # This is due to numerical errors. The extracted primal solution from the dual \n",
    "                                                                                  # differs from the primal solution after about 12 deicmals.\n",
    "       \n",
    "plt.plot(distance)\n",
    "plt.yscale('log') "
   ]
  },
  {
   "cell_type": "markdown",
   "metadata": {},
   "source": [
    "d) After about 2400 iterations the extracted primal iterates start to satisfy the constraint"
   ]
  },
  {
   "cell_type": "code",
   "execution_count": 323,
   "metadata": {},
   "outputs": [
    {
     "data": {
      "text/plain": [
       "[<matplotlib.lines.Line2D at 0x26e2ccdaee0>]"
      ]
     },
     "execution_count": 323,
     "metadata": {},
     "output_type": "execute_result"
    },
    {
     "data": {
      "image/png": "[encoded data removed]",
      "text/plain": [
       "<Figure size 432x288 with 1 Axes>"
      ]
     },
     "metadata": {
      "needs_background": "light"
     },
     "output_type": "display_data"
    }
   ],
   "source": [
    "plt.plot(f[:100])"
   ]
  },
  {
   "cell_type": "markdown",
   "metadata": {},
   "source": [
    "e) The function values for $f\\left(\\hat{x}^k\\right)$ go back and forth quickly for about 25 iterations and then stays basically flat, with very small changes, until the stopping condition is reached."
   ]
  },
  {
   "cell_type": "code",
   "execution_count": 345,
   "metadata": {},
   "outputs": [
    {
     "data": {
      "text/plain": [
       "[<matplotlib.lines.Line2D at 0x26e2927de80>]"
      ]
     },
     "execution_count": 345,
     "metadata": {},
     "output_type": "execute_result"
    },
    {
     "data": {
      "image/png": "[encoded data removed]",
      "text/plain": [
       "<Figure size 432x288 with 1 Axes>"
      ]
     },
     "metadata": {
      "needs_background": "light"
     },
     "output_type": "display_data"
    }
   ],
   "source": [
    "plt.plot(fg)"
   ]
  },
  {
   "cell_type": "markdown",
   "metadata": {},
   "source": [
    "e) The function values for $f\\left(\\hat{x}^k\\right)+\\iota_{S}\\left(\\hat{x}^k\\right)$ are infinity, because of the indicator-function, until about 2400 iterations, just as in d). It then goes to -2.67 and just slitghtly improves until the stopping condition is reached."
   ]
  }
 ],
 "metadata": {
  "kernelspec": {
   "display_name": "Python 3 (ipykernel)",
   "language": "python",
   "name": "python3"
  },
  "language_info": {
   "codemirror_mode": {
    "name": "ipython",
    "version": 3
   },
   "file_extension": ".py",
   "mimetype": "text/x-python",
   "name": "python",
   "nbconvert_exporter": "python",
   "pygments_lexer": "ipython3",
   "version": "3.9.12"
  }
 },
 "nbformat": 4,
 "nbformat_minor": 4
}
